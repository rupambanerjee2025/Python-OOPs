{
  "nbformat": 4,
  "nbformat_minor": 0,
  "metadata": {
    "colab": {
      "provenance": []
    },
    "kernelspec": {
      "name": "python3",
      "display_name": "Python 3"
    },
    "language_info": {
      "name": "python"
    }
  },
  "cells": [
    {
      "cell_type": "markdown",
      "source": [
        "**Python OOPs Assignment**\n",
        "\n",
        "**Theorital Questions and Answers-**\n",
        "\n",
        "\n",
        "\n",
        "---\n",
        "\n",
        "### 1. **What is Object-Oriented Programming (OOP)?**\n",
        "OOP is a programming paradigm based on the concept of “objects,” which encapsulate **data** and **behavior**. It emphasizes modular, reusable code and includes concepts like **classes, objects, inheritance, polymorphism, encapsulation,** and **abstraction**.\n",
        "\n",
        "---\n",
        "\n",
        "### 2. **What is a class in OOP?**\n",
        "A **class** is a blueprint or template for creating objects. It defines attributes (variables) and methods (functions) that its instances (objects) will have.\n",
        "\n",
        "---\n",
        "\n",
        "### 3. **What is an object in OOP?**\n",
        "An **object** is an instance of a class. It holds **data** in attributes and uses **methods** to perform operations or behaviors.\n",
        "\n",
        "---\n",
        "\n",
        "### 4. **What is the difference between abstraction and encapsulation?**\n",
        "- **Abstraction** hides *complex implementation* and shows only the *essential features*.\n",
        "- **Encapsulation** binds data and methods together and restricts access to some of the object’s components for security.\n",
        "\n",
        "---\n",
        "\n",
        "### 5. **What are dunder methods in Python?**\n",
        "**Dunder** (double underscore) methods like `__init__`, `__str__`, `__add__` are special methods in Python that let you define how objects behave with operators, functions, etc.\n",
        "\n",
        "---\n",
        "\n",
        "### 6. **Explain the concept of inheritance in OOP.**\n",
        "**Inheritance** allows a class (child) to inherit attributes and methods from another class (parent), enabling code reuse and logical hierarchy.\n",
        "\n",
        "---\n",
        "\n",
        "### 7. **What is polymorphism in OOP?**\n",
        "**Polymorphism** allows different classes to be treated as the same interface. For example, two classes may have the same method name, but with different implementations.\n",
        "\n",
        "---\n",
        "\n",
        "### 8. **How is encapsulation achieved in Python?**\n",
        "Using **private attributes** (e.g., `self.__var`) and **getter/setter methods** or `@property` decorators to control access to internal data.\n",
        "\n",
        "---\n",
        "\n",
        "### 9. **What is a constructor in Python?**\n",
        "The `__init__` method is Python's constructor. It’s automatically called when a new object is created and initializes its attributes.\n",
        "\n",
        "---\n",
        "\n",
        "### 10. **What are class and static methods in Python?**\n",
        "- **@classmethod**: Takes `cls` as the first parameter and can modify class state.\n",
        "- **@staticmethod**: Doesn’t take `self` or `cls`. Acts like a regular function within a class.\n",
        "\n",
        "---\n",
        "\n",
        "### 11. **What is method overloading in Python?**\n",
        "Python doesn't support traditional method overloading (same method name, different parameters). Instead, you can use default or variable-length arguments to simulate it.\n",
        "\n",
        "---\n",
        "\n",
        "### 12. **What is method overriding in OOP?**\n",
        "When a subclass provides a **new implementation** of a method inherited from its parent class with the **same name and parameters**.\n",
        "\n",
        "---\n",
        "\n",
        "### 13. **What is a property decorator in Python?**\n",
        "`@property` lets you define a method that behaves like an attribute, often used to encapsulate access to a private variable with custom logic.\n",
        "\n",
        "---\n",
        "\n",
        "### 14. **Why is polymorphism important in OOP?**\n",
        "It allows for **flexible and extensible code**. You can write code that works on objects of different types, as long as they follow a common interface.\n",
        "\n",
        "---\n",
        "\n",
        "### 15. **What is an abstract class in Python?**\n",
        "A class that can’t be instantiated and often includes **abstract methods** (defined but not implemented). Defined using `abc` module and `@abstractmethod`.\n",
        "\n",
        "---\n",
        "\n",
        "### 16. **What are the advantages of OOP?**\n",
        "- Code reusability through inheritance\n",
        "- Modularity and separation of concerns\n",
        "- Scalability\n",
        "- Maintainability\n",
        "- Encapsulation and data protection\n",
        "\n",
        "---\n",
        "\n",
        "### 17. **What is multiple inheritance in Python?**\n",
        "When a class inherits from **more than one parent class**:\n",
        "```python\n",
        "class A: pass\n",
        "class B: pass\n",
        "class C(A, B): pass\n",
        "```\n",
        "\n",
        "---\n",
        "\n",
        "### 18. **What is the difference between a class variable and an instance variable?**\n",
        "- **Class variable**: Shared across all instances (`ClassName.var`)\n",
        "- **Instance variable**: Unique to each object (`self.var`)\n",
        "\n",
        "---\n",
        "\n",
        "### 19. **Explain the purpose of `__str__` and `__repr__` methods in Python.**\n",
        "- `__str__`: User-friendly string representation (`print(obj)`)\n",
        "- `__repr__`: Official or developer-oriented representation (`repr(obj)`)\n",
        "\n",
        "---\n",
        "\n",
        "### 20. **What is the significance of the `super()` function in Python?**\n",
        "`super()` gives access to methods in the **parent/superclass**, commonly used to call `__init__` or overridden methods in inheritance.\n",
        "\n",
        "---\n",
        "\n",
        "### 21. **What is the significance of the `__del__` method in Python?**\n",
        "Called when an object is about to be destroyed (like a destructor). Useful for cleanup tasks, but use with caution — Python’s garbage collection usually handles cleanup.\n",
        "\n",
        "---\n",
        "\n",
        "### 22. **What is the difference between `@staticmethod` and `@classmethod` in Python?**\n",
        "| Decorator       | First Argument | Can access class state? |\n",
        "|----------------|----------------|--------------------------|\n",
        "| `@staticmethod` | None           | ❌                      |\n",
        "| `@classmethod`  | `cls`          | ✅                      |\n",
        "\n",
        "---\n",
        "\n",
        "### 23. **How does polymorphism work in Python with inheritance?**\n",
        "You can override methods in a subclass, and Python’s dynamic typing will call the appropriate version at runtime:\n",
        "```python\n",
        "class Animal:\n",
        "    def speak(self): print(\"Animal speaks\")\n",
        "\n",
        "class Dog(Animal):\n",
        "    def speak(self): print(\"Dog barks\")\n",
        "\n",
        "a = Dog()\n",
        "a.speak()  # Dog barks\n",
        "```\n",
        "\n",
        "---\n",
        "\n",
        "### 24. **What is method chaining in Python OOP?**\n",
        "Returning `self` from a method so multiple methods can be called in one line:\n",
        "```python\n",
        "obj.increment().double().reset()\n",
        "```\n",
        "\n",
        "---\n",
        "\n",
        "### 25. **What is the purpose of the `__call__` method in Python?**\n",
        "Allows an object to be **called like a function**:\n",
        "```python\n",
        "class Adder:\n",
        "    def __call__(self, a, b):\n",
        "        return a + b\n",
        "\n",
        "add = Adder()\n",
        "print(add(2, 3))  # 5\n",
        "```\n",
        "\n",
        "---\n"
      ],
      "metadata": {
        "id": "2SAfKFV0VR1M"
      }
    },
    {
      "cell_type": "markdown",
      "source": [
        "**Practical Questions and Answers-**\n",
        "\n",
        " **1. Create a parent class Animal with a method speak() that prints a generic message. Create a child class Dog\n",
        "that overrides the speak() method to print \"Bark!\".**"
      ],
      "metadata": {
        "id": "Zo8sCQX8ZEKp"
      }
    },
    {
      "cell_type": "code",
      "source": [
        "class Animal:\n",
        "    def speak(self):\n",
        "        print(\"The animal makes a sound.\")\n",
        "\n",
        "class Dog(Animal):\n",
        "    def speak(self):\n",
        "        print(\"Bark!\")\n",
        "\n",
        "dog = Dog()\n",
        "dog.speak()\n"
      ],
      "metadata": {
        "colab": {
          "base_uri": "https://localhost:8080/"
        },
        "id": "yu14dvIxVg8i",
        "outputId": "6d7951c0-1947-4101-c49a-8b4be388f757"
      },
      "execution_count": 3,
      "outputs": [
        {
          "output_type": "stream",
          "name": "stdout",
          "text": [
            "Bark!\n"
          ]
        }
      ]
    },
    {
      "cell_type": "markdown",
      "source": [
        "**2. Write a program to create an abstract class Shape with a method area(). Derive classes Circle and Rectangle\n",
        "from it and implement the area() method in both.**"
      ],
      "metadata": {
        "id": "JQipEz7MaP8K"
      }
    },
    {
      "cell_type": "code",
      "source": [
        "from abc import ABC, abstractmethod\n",
        "\n",
        "class Shape(ABC):\n",
        "    @abstractmethod\n",
        "    def area(self):\n",
        "        pass\n",
        "\n",
        "class Circle(Shape):\n",
        "    def __init__(self, radius):\n",
        "        self.radius = radius\n",
        "\n",
        "    def area(self):\n",
        "        return 3.14 * self.radius ** 2\n",
        "\n",
        "class Rectangle(Shape):\n",
        "    def __init__(self, width, height):\n",
        "        self.width = width\n",
        "        self.height = height\n",
        "\n",
        "    def area(self):\n",
        "        return self.width * self.height\n",
        "\n",
        "c = Circle(5)\n",
        "r = Rectangle(4, 6)\n",
        "print(c.area())\n",
        "print(r.area())\n"
      ],
      "metadata": {
        "colab": {
          "base_uri": "https://localhost:8080/"
        },
        "id": "ercqT9flaVHo",
        "outputId": "72422432-de98-43a7-936f-1381c726737e"
      },
      "execution_count": 4,
      "outputs": [
        {
          "output_type": "stream",
          "name": "stdout",
          "text": [
            "78.5\n",
            "24\n"
          ]
        }
      ]
    },
    {
      "cell_type": "markdown",
      "source": [
        " **3. Implement a multi-level inheritance scenario where a class Vehicle has an attribute type. Derive a class Car\n",
        "and further derive a class ElectricCar that adds a battery attribute.**"
      ],
      "metadata": {
        "id": "zD6vDOhKac97"
      }
    },
    {
      "cell_type": "code",
      "source": [
        "class Vehicle:\n",
        "    def __init__(self, type):\n",
        "        self.type = type\n",
        "\n",
        "class Car(Vehicle):\n",
        "    def __init__(self, type, brand):\n",
        "        super().__init__(type)\n",
        "        self.brand = brand\n",
        "\n",
        "class ElectricCar(Car):\n",
        "    def __init__(self, type, brand, battery):\n",
        "        super().__init__(type, brand)\n",
        "        self.battery = battery\n",
        "\n",
        "ecar = ElectricCar(\"Sedan\", \"Tesla\", \"85kWh\")\n",
        "print(ecar.type, ecar.brand, ecar.battery)\n"
      ],
      "metadata": {
        "colab": {
          "base_uri": "https://localhost:8080/"
        },
        "id": "aMQhUoX9alS8",
        "outputId": "17ccdcfe-0fab-49ff-9002-e0a408c7d170"
      },
      "execution_count": 5,
      "outputs": [
        {
          "output_type": "stream",
          "name": "stdout",
          "text": [
            "Sedan Tesla 85kWh\n"
          ]
        }
      ]
    },
    {
      "cell_type": "markdown",
      "source": [
        " **4. Demonstrate polymorphism by creating a base class Bird with a method fly(). Create two derived classes\n",
        "Sparrow and Penguin that override the fly() method.**"
      ],
      "metadata": {
        "id": "WpUpGzCya87U"
      }
    },
    {
      "cell_type": "code",
      "source": [
        "class Bird:\n",
        "    def fly(self):\n",
        "        print(\"Bird is flying.\")\n",
        "\n",
        "class Sparrow(Bird):\n",
        "    def fly(self):\n",
        "        print(\"Sparrow flies high.\")\n",
        "\n",
        "class Penguin(Bird):\n",
        "    def fly(self):\n",
        "        print(\"Penguins can't fly.\")\n",
        "\n",
        "birds = [Sparrow(), Penguin()]\n",
        "for bird in birds:\n",
        "    bird.fly()\n"
      ],
      "metadata": {
        "colab": {
          "base_uri": "https://localhost:8080/"
        },
        "id": "U9CXn4FPbB4L",
        "outputId": "0a8dd4a3-602c-44f2-d2fb-dbefe5654699"
      },
      "execution_count": 6,
      "outputs": [
        {
          "output_type": "stream",
          "name": "stdout",
          "text": [
            "Sparrow flies high.\n",
            "Penguins can't fly.\n"
          ]
        }
      ]
    },
    {
      "cell_type": "markdown",
      "source": [
        "**5. Write a program to demonstrate encapsulation by creating a class BankAccount with private attributes\n",
        "balance and methods to deposit, withdraw, and check balance.**"
      ],
      "metadata": {
        "id": "EDGxXbWHbHju"
      }
    },
    {
      "cell_type": "code",
      "source": [
        "class BankAccount:\n",
        "    def __init__(self):\n",
        "        self.__balance = 0\n",
        "\n",
        "    def deposit(self, amount):\n",
        "        if amount > 0:\n",
        "            self.__balance += amount\n",
        "\n",
        "    def withdraw(self, amount):\n",
        "        if 0 < amount <= self.__balance:\n",
        "            self.__balance -= amount\n",
        "\n",
        "    def get_balance(self):\n",
        "        return self.__balance\n",
        "\n",
        "acc = BankAccount()\n",
        "acc.deposit(1000)\n",
        "acc.withdraw(500)\n",
        "print(acc.get_balance())\n"
      ],
      "metadata": {
        "colab": {
          "base_uri": "https://localhost:8080/"
        },
        "id": "DJ0QjIm6bLc5",
        "outputId": "ce29c2f3-0327-4342-e622-fb0158ab2685"
      },
      "execution_count": 7,
      "outputs": [
        {
          "output_type": "stream",
          "name": "stdout",
          "text": [
            "500\n"
          ]
        }
      ]
    },
    {
      "cell_type": "markdown",
      "source": [
        " **6. Demonstrate runtime polymorphism using a method play() in a base class Instrument. Derive classes Guitar\n",
        "and Piano that implement their own version of play().**"
      ],
      "metadata": {
        "id": "OSbcb4EvbQMi"
      }
    },
    {
      "cell_type": "code",
      "source": [
        "class Instrument:\n",
        "    def play(self):\n",
        "        print(\"Playing instrument\")\n",
        "\n",
        "class Guitar(Instrument):\n",
        "    def play(self):\n",
        "        print(\"Strumming the guitar\")\n",
        "\n",
        "class Piano(Instrument):\n",
        "    def play(self):\n",
        "        print(\"Playing the piano\")\n",
        "\n",
        "instruments = [Guitar(), Piano()]\n",
        "for inst in instruments:\n",
        "    inst.play()\n"
      ],
      "metadata": {
        "colab": {
          "base_uri": "https://localhost:8080/"
        },
        "id": "lyMxBdEfbU11",
        "outputId": "0adaf643-e756-4f8f-ac8b-cd285a04a9b1"
      },
      "execution_count": 8,
      "outputs": [
        {
          "output_type": "stream",
          "name": "stdout",
          "text": [
            "Strumming the guitar\n",
            "Playing the piano\n"
          ]
        }
      ]
    },
    {
      "cell_type": "markdown",
      "source": [
        "**7. Create a class MathOperations with a class method add_numbers() to add two numbers and a static\n",
        "method subtract_numbers() to subtract two numbers.**"
      ],
      "metadata": {
        "id": "daGbavbSbZLN"
      }
    },
    {
      "cell_type": "code",
      "source": [
        "class MathOperations:\n",
        "    @classmethod\n",
        "    def add_numbers(cls, a, b):\n",
        "        return a + b\n",
        "\n",
        "    @staticmethod\n",
        "    def subtract_numbers(a, b):\n",
        "        return a - b\n",
        "\n",
        "print(MathOperations.add_numbers(5, 3))\n",
        "print(MathOperations.subtract_numbers(10, 4))\n"
      ],
      "metadata": {
        "colab": {
          "base_uri": "https://localhost:8080/"
        },
        "id": "Fp1daCYbbejt",
        "outputId": "712ea44b-99a2-468d-b982-bdc4ccd2fe97"
      },
      "execution_count": 9,
      "outputs": [
        {
          "output_type": "stream",
          "name": "stdout",
          "text": [
            "8\n",
            "6\n"
          ]
        }
      ]
    },
    {
      "cell_type": "markdown",
      "source": [
        "**8. Implement a class Person with a class method to count the total number of persons created.**"
      ],
      "metadata": {
        "id": "bYNv-_w4bi0V"
      }
    },
    {
      "cell_type": "code",
      "source": [
        "class Person:\n",
        "    count = 0\n",
        "\n",
        "    def __init__(self, name):\n",
        "        self.name = name\n",
        "        Person.count += 1\n",
        "\n",
        "    @classmethod\n",
        "    def total_persons(cls):\n",
        "        return cls.count\n",
        "\n",
        "p1 = Person(\"Alice\")\n",
        "p2 = Person(\"Bob\")\n",
        "print(Person.total_persons())\n"
      ],
      "metadata": {
        "colab": {
          "base_uri": "https://localhost:8080/"
        },
        "id": "od-wmaQbbm0C",
        "outputId": "ae08943f-40c6-46cf-f00c-e7e69518dfaf"
      },
      "execution_count": 10,
      "outputs": [
        {
          "output_type": "stream",
          "name": "stdout",
          "text": [
            "2\n"
          ]
        }
      ]
    },
    {
      "cell_type": "markdown",
      "source": [
        " **9. Write a class Fraction with attributes numerator and denominator. Override the str method to display the\n",
        "fraction as \"numerator/denominator\".**"
      ],
      "metadata": {
        "id": "3WuZa7FMbr_Q"
      }
    },
    {
      "cell_type": "code",
      "source": [
        "class Fraction:\n",
        "    def __init__(self, numerator, denominator):\n",
        "        self.numerator = numerator\n",
        "        self.denominator = denominator\n",
        "\n",
        "    def __str__(self):\n",
        "        return f\"{self.numerator}/{self.denominator}\"\n",
        "\n",
        "f = Fraction(3, 4)\n",
        "print(f)\n"
      ],
      "metadata": {
        "colab": {
          "base_uri": "https://localhost:8080/"
        },
        "id": "GAiPZN33bu-Y",
        "outputId": "0bb234f1-0723-4790-91be-c8712b11530f"
      },
      "execution_count": 11,
      "outputs": [
        {
          "output_type": "stream",
          "name": "stdout",
          "text": [
            "3/4\n"
          ]
        }
      ]
    },
    {
      "cell_type": "markdown",
      "source": [
        " **10. Demonstrate operator overloading by creating a class Vector and overriding the add method to add two\n",
        "vectors.**"
      ],
      "metadata": {
        "id": "lvHGnSOdbymI"
      }
    },
    {
      "cell_type": "code",
      "source": [
        "class Vector:\n",
        "    def __init__(self, x, y):\n",
        "        self.x = x\n",
        "        self.y = y\n",
        "\n",
        "    def __add__(self, other):\n",
        "        return Vector(self.x + other.x, self.y + other.y)\n",
        "\n",
        "    def __str__(self):\n",
        "        return f\"({self.x}, {self.y})\"\n",
        "\n",
        "v1 = Vector(2, 3)\n",
        "v2 = Vector(4, 5)\n",
        "print(v1 + v2)\n"
      ],
      "metadata": {
        "colab": {
          "base_uri": "https://localhost:8080/"
        },
        "id": "-_Eo8ezJb17I",
        "outputId": "fccf8019-b65b-4080-cfcb-12cf7e1d6292"
      },
      "execution_count": 12,
      "outputs": [
        {
          "output_type": "stream",
          "name": "stdout",
          "text": [
            "(6, 8)\n"
          ]
        }
      ]
    },
    {
      "cell_type": "markdown",
      "source": [
        " **11. Create a class Person with attributes name and age. Add a method greet() that prints \"Hello, my name is\n",
        "{name} and I am {age} years old.\"**"
      ],
      "metadata": {
        "id": "cpE-ctYeb6V6"
      }
    },
    {
      "cell_type": "code",
      "source": [
        "class Person:\n",
        "    def __init__(self, name, age):\n",
        "        self.name = name\n",
        "        self.age = age\n",
        "\n",
        "    def greet(self):\n",
        "        print(f\"Hello, my name is {self.name} and I am {self.age} years old.\")\n",
        "\n",
        "p = Person(\"Rupam\", 30)\n",
        "p.greet()\n"
      ],
      "metadata": {
        "colab": {
          "base_uri": "https://localhost:8080/"
        },
        "id": "0lKbHxzob-CG",
        "outputId": "f0ae93fb-a309-42f6-a31d-ba581ad943eb"
      },
      "execution_count": 13,
      "outputs": [
        {
          "output_type": "stream",
          "name": "stdout",
          "text": [
            "Hello, my name is Rupam and I am 30 years old.\n"
          ]
        }
      ]
    },
    {
      "cell_type": "markdown",
      "source": [
        " **12. Implement a class Student with attributes name and grades. Create a method average_grade() to compute\n",
        "the average of the grades.**"
      ],
      "metadata": {
        "id": "JWws1UptcGwZ"
      }
    },
    {
      "cell_type": "code",
      "source": [
        "class Student:\n",
        "    def __init__(self, name, grades):\n",
        "        self.name = name\n",
        "        self.grades = grades\n",
        "\n",
        "    def average_grade(self):\n",
        "        return sum(self.grades) / len(self.grades)\n",
        "\n",
        "s = Student(\"Ram\", [80, 90, 85])\n",
        "print(s.average_grade())\n"
      ],
      "metadata": {
        "colab": {
          "base_uri": "https://localhost:8080/"
        },
        "id": "XjP_GEC1cJV-",
        "outputId": "2d6129cd-7306-45cb-f466-4662400e0668"
      },
      "execution_count": 15,
      "outputs": [
        {
          "output_type": "stream",
          "name": "stdout",
          "text": [
            "85.0\n"
          ]
        }
      ]
    },
    {
      "cell_type": "markdown",
      "source": [
        " **13. Create a class Rectangle with methods set_dimensions() to set the dimensions and area() to calculate the\n",
        "area.**"
      ],
      "metadata": {
        "id": "d8JCPX2tcXmI"
      }
    },
    {
      "cell_type": "code",
      "source": [
        "class Rectangle:\n",
        "    def set_dimensions(self, width, height):\n",
        "        self.width = width\n",
        "        self.height = height\n",
        "\n",
        "    def area(self):\n",
        "        return self.width * self.height\n",
        "\n",
        "r = Rectangle()\n",
        "r.set_dimensions(4, 5)\n",
        "print(r.area())\n"
      ],
      "metadata": {
        "colab": {
          "base_uri": "https://localhost:8080/"
        },
        "id": "fDRzsZEmcZKI",
        "outputId": "00fa5a16-316a-41d6-f712-bc0616ea8c59"
      },
      "execution_count": 16,
      "outputs": [
        {
          "output_type": "stream",
          "name": "stdout",
          "text": [
            "20\n"
          ]
        }
      ]
    },
    {
      "cell_type": "markdown",
      "source": [
        " **14. Create a class Employee with a method calculate_salary() that computes the salary based on hours worked\n",
        "and hourly rate. Create a derived class Manager that adds a bonus to the salary.**"
      ],
      "metadata": {
        "id": "1TZ9Q7Zhch_s"
      }
    },
    {
      "cell_type": "code",
      "source": [
        "class Employee:\n",
        "    def __init__(self, hours, rate):\n",
        "        self.hours = hours\n",
        "        self.rate = rate\n",
        "\n",
        "    def calculate_salary(self):\n",
        "        return self.hours * self.rate\n",
        "\n",
        "class Manager(Employee):\n",
        "    def __init__(self, hours, rate, bonus):\n",
        "        super().__init__(hours, rate)\n",
        "        self.bonus = bonus\n",
        "\n",
        "    def calculate_salary(self):\n",
        "        return super().calculate_salary() + self.bonus\n",
        "\n",
        "m = Manager(40, 50, 500)\n",
        "print(m.calculate_salary())\n"
      ],
      "metadata": {
        "colab": {
          "base_uri": "https://localhost:8080/"
        },
        "id": "ISKXr5aHcjkd",
        "outputId": "5304c578-e64f-4386-f30e-cda3e6f4d226"
      },
      "execution_count": 17,
      "outputs": [
        {
          "output_type": "stream",
          "name": "stdout",
          "text": [
            "2500\n"
          ]
        }
      ]
    },
    {
      "cell_type": "markdown",
      "source": [
        "**15. Create a class Product with attributes name, price, and quantity. Implement a method total_price() that\n",
        "calculates the total price of the product.**"
      ],
      "metadata": {
        "id": "dn0nLlZQcrNv"
      }
    },
    {
      "cell_type": "code",
      "source": [
        "class Product:\n",
        "    def __init__(self, name, price, quantity):\n",
        "        self.name = name\n",
        "        self.price = price\n",
        "        self.quantity = quantity\n",
        "\n",
        "    def total_price(self):\n",
        "        return self.price * self.quantity\n",
        "\n",
        "p = Product(\"Laptop\", 30000, 3)\n",
        "print(f\"Total price of {p.name}: INR{p.total_price()}\")\n"
      ],
      "metadata": {
        "colab": {
          "base_uri": "https://localhost:8080/"
        },
        "id": "TfoOxi0hcuwz",
        "outputId": "f44659fb-a08a-48f5-fe66-89388ea111b6"
      },
      "execution_count": 20,
      "outputs": [
        {
          "output_type": "stream",
          "name": "stdout",
          "text": [
            "Total price of Laptop: INR90000\n"
          ]
        }
      ]
    },
    {
      "cell_type": "markdown",
      "source": [
        " **16. Create a class Animal with an abstract method sound(). Create two derived classes Cow and Sheep that\n",
        "implement the sound() method.**"
      ],
      "metadata": {
        "id": "hY0R2K-sdftT"
      }
    },
    {
      "cell_type": "code",
      "source": [
        "from abc import ABC, abstractmethod\n",
        "\n",
        "class Animal(ABC):\n",
        "    @abstractmethod\n",
        "    def sound(self):\n",
        "        pass\n",
        "\n",
        "class Cow(Animal):\n",
        "    def sound(self):\n",
        "        return \"Moo\"\n",
        "\n",
        "class Sheep(Animal):\n",
        "    def sound(self):\n",
        "        return \"Baa\"\n",
        "\n",
        "c = Cow()\n",
        "s = Sheep()\n",
        "print(c.sound())\n",
        "print(s.sound())\n"
      ],
      "metadata": {
        "colab": {
          "base_uri": "https://localhost:8080/"
        },
        "id": "YV9oBk_QdjUA",
        "outputId": "d6f6dbe0-dd62-4269-c7a6-29b8809a7908"
      },
      "execution_count": 21,
      "outputs": [
        {
          "output_type": "stream",
          "name": "stdout",
          "text": [
            "Moo\n",
            "Baa\n"
          ]
        }
      ]
    },
    {
      "cell_type": "markdown",
      "source": [
        " **17. Create a class Book with attributes title, author, and year_published. Add a method get_book_info() that\n",
        "returns a formatted string with the book's details.**"
      ],
      "metadata": {
        "id": "v5SbxqVcdoDo"
      }
    },
    {
      "cell_type": "code",
      "source": [
        "class Book:\n",
        "    def __init__(self, title, author, year_published):\n",
        "        self.title = title\n",
        "        self.author = author\n",
        "        self.year_published = year_published\n",
        "\n",
        "    def get_book_info(self):\n",
        "        return f\"'{self.title}' by {self.author} (Published in {self.year_published})\"\n",
        "\n",
        "b = Book(\"1984\", \"George Orwell\", 1949)\n",
        "print(b.get_book_info())\n"
      ],
      "metadata": {
        "colab": {
          "base_uri": "https://localhost:8080/"
        },
        "id": "aPf4-Hdndrko",
        "outputId": "328eb1b9-6cf9-4f1a-88f0-a8347e88dcc9"
      },
      "execution_count": 22,
      "outputs": [
        {
          "output_type": "stream",
          "name": "stdout",
          "text": [
            "'1984' by George Orwell (Published in 1949)\n"
          ]
        }
      ]
    },
    {
      "cell_type": "markdown",
      "source": [
        "**18. Create a class House with attributes address and price. Create a derived class Mansion that adds an\n",
        "attribute number_of_rooms.**"
      ],
      "metadata": {
        "id": "2NymdjRrd9-4"
      }
    },
    {
      "cell_type": "code",
      "source": [
        "class House:\n",
        "    def __init__(self, address, price):\n",
        "        self.address = address\n",
        "        self.price = price\n",
        "\n",
        "class Mansion(House):\n",
        "    def __init__(self, address, price, number_of_rooms):\n",
        "        super().__init__(address, price)\n",
        "        self.number_of_rooms = number_of_rooms\n",
        "\n",
        "m = Mansion(\"123 Sr Road\", 2000000, 10)\n",
        "print(f\"Address: {m.address}, Price: INR{m.price}, Rooms: {m.number_of_rooms}\")\n"
      ],
      "metadata": {
        "colab": {
          "base_uri": "https://localhost:8080/"
        },
        "id": "CpwMrqTXd_1o",
        "outputId": "e89a3d29-d14a-4e91-c2d4-edf30c5bb7e4"
      },
      "execution_count": 24,
      "outputs": [
        {
          "output_type": "stream",
          "name": "stdout",
          "text": [
            "Address: 123 Sr Road, Price: INR2000000, Rooms: 10\n"
          ]
        }
      ]
    }
  ]
}